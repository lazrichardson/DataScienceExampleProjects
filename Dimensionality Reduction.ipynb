{
 "cells": [
  {
   "cell_type": "markdown",
   "metadata": {},
   "source": [
    "# Dimensionality Reduction\n",
    "Luther Richardson  \n",
    "4-28-21\n",
    "- This project downloads at least 200 Pubmed articles. 100 include the term “obesity” and the other 100 include the term “cancer”. \n",
    "- Their textual corpus is analyzed to feed them into a dimensionality reduction method.\n",
    "- Finally, Principal Component Analysis (PCA), T-distributed stochastic neighbor embedding (tSNE), and Uniform Manifold Approximation and Projection for Dimension Reduction (UMAP) algorithms are applied to the dataset to visualize the \n",
    "- You need to prepare a report on your tasks and findings along with a video file describing what you have done. You can copy paste your codes, its results and your description into a Word document, Python Notebook or you can use R notebook."
   ]
  },
  {
   "cell_type": "markdown",
   "metadata": {},
   "source": [
    "## Import modules\n"
   ]
  },
  {
   "cell_type": "code",
   "execution_count": 97,
   "metadata": {},
   "outputs": [
    {
     "name": "stderr",
     "output_type": "stream",
     "text": [
      "[nltk_data] Downloading package stopwords to\n",
      "[nltk_data]     /Users/luther/nltk_data...\n",
      "[nltk_data]   Package stopwords is already up-to-date!\n"
     ]
    }
   ],
   "source": [
    "import os.path\n",
    "import gensim\n",
    "from gensim import corpora\n",
    "from gensim import models\n",
    "from nltk.tokenize import RegexpTokenizer\n",
    "from nltk.stem.porter import PorterStemmer\n",
    "from gensim.models.coherencemodel import CoherenceModel\n",
    "import matplotlib.pyplot as plt\n",
    "import pandas as pd\n",
    "import numpy as np\n",
    "from nltk.corpus import stopwords\n",
    "import re\n",
    "import nltk\n",
    "nltk.download('stopwords')\n",
    "from pymed import PubMed\n",
    "import pandas as pd\n",
    "import json\n",
    "import matplotlib\n",
    "from sklearn.feature_extraction.text import TfidfVectorizer\n",
    "from sklearn.feature_extraction.text import CountVectorizer\n",
    "from sklearn.feature_extraction import text\n",
    "from sklearn.feature_extraction.text import TfidfVectorizer\n",
    "import pandas as pd\n",
    "import numpy as np\n",
    "import matplotlib.pyplot as plt\n",
    "%matplotlib inline\n",
    "from sklearn.decomposition import PCA\n",
    "from sklearn.preprocessing import StandardScaler\n",
    "import numpy as np \n",
    "from matplotlib import pyplot as plt "
   ]
  },
  {
   "cell_type": "markdown",
   "metadata": {},
   "source": [
    "## Define key methods"
   ]
  },
  {
   "cell_type": "code",
   "execution_count": 99,
   "metadata": {},
   "outputs": [],
   "source": [
    "# Performs a pubmed search with a keyword and number of articles requested\n",
    "def pubmed_search_to_csv(search_term, num_articles):\n",
    "    # Create a PubMed object that GraphQL can use to query\n",
    "    # https://www.ncbi.nlm.nih.gov/pmc/tools/developers/\n",
    "    # pubmed configuration\n",
    "    pubmed = PubMed(tool=\"Tool3\", email=\"l.zilli@bu.edu\")\n",
    "    # Create a query in plain text\n",
    "    query = f'(({search_term}[Title/Abstract]))'\n",
    "    # Execute the query against the API\n",
    "    search_results = list(pubmed.query(query, max_results=num_articles + 1))\n",
    "    # Clean up the result\n",
    "    titles = []\n",
    "    for item in search_results:\n",
    "        titles.append(str(item.title))\n",
    "    # dump to CSV\n",
    "    df = pd.DataFrame(titles)\n",
    "    df.to_csv(f\"{search_term}_pubmed_search_results.csv\")\n",
    "\n",
    "# import the data\n",
    "def load_data(path, column):\n",
    "    data = pd.read_csv(path,\n",
    "                       low_memory=False)\n",
    "    data = data[column]\n",
    "    documents = data.values.tolist()\n",
    "    print(\"Documents:\",len(data))\n",
    "    return documents"
   ]
  },
  {
   "cell_type": "markdown",
   "metadata": {},
   "source": [
    "# Get data from PubMed\n",
    "Search for 100 articles each on cancer and obesity"
   ]
  },
  {
   "cell_type": "code",
   "execution_count": 75,
   "metadata": {},
   "outputs": [],
   "source": [
    "pubmed_search_to_csv('obesity', 200)\n",
    "pubmed_search_to_csv('cancer', 200)"
   ]
  },
  {
   "cell_type": "markdown",
   "metadata": {},
   "source": [
    "# Prepare for dimensionality reduction"
   ]
  },
  {
   "cell_type": "code",
   "execution_count": 100,
   "metadata": {},
   "outputs": [],
   "source": [
    "# filenames for import\n",
    "files = [\"cancer_pubmed_search_results.csv\",\"obesity_pubmed_search_results.csv\"]"
   ]
  },
  {
   "cell_type": "code",
   "execution_count": 101,
   "metadata": {},
   "outputs": [
    {
     "name": "stdout",
     "output_type": "stream",
     "text": [
      "Documents: 201\n",
      "Documents: 201\n"
     ]
    }
   ],
   "source": [
    "documents = []\n",
    "\n",
    "for file in files:\n",
    "    data = load_data(file,'0')\n",
    "    for title in data:\n",
    "        documents.append(title)"
   ]
  },
  {
   "cell_type": "markdown",
   "metadata": {},
   "source": [
    "## Example document titles"
   ]
  },
  {
   "cell_type": "code",
   "execution_count": 102,
   "metadata": {},
   "outputs": [
    {
     "name": "stdout",
     "output_type": "stream",
     "text": [
      "Diagnosis and management of pharyngoesophageal stenosis: A comprehensive approach to prophylactic, endoscopic, and reconstructive treatment options.\n",
      "Synergistic effects of autocrine motility factor and methyl jasmonate on human breast cancer cells.\n",
      "PHF19 inhibition as a therapeutic target in multiple myeloma.\n",
      "A deep learning based multiscale approach to segment the areas of interest in whole slide images.\n",
      "Micropatterned growth surface topography affects extracellular vesicle production.\n"
     ]
    }
   ],
   "source": [
    "for doc in documents[0:5]:\n",
    "    print(doc)"
   ]
  },
  {
   "cell_type": "markdown",
   "metadata": {},
   "source": [
    "## How many documents?"
   ]
  },
  {
   "cell_type": "code",
   "execution_count": 78,
   "metadata": {},
   "outputs": [
    {
     "data": {
      "text/plain": [
       "402"
      ]
     },
     "execution_count": 78,
     "metadata": {},
     "output_type": "execute_result"
    }
   ],
   "source": [
    "len(documents)"
   ]
  },
  {
   "cell_type": "markdown",
   "metadata": {},
   "source": [
    "# Start creating the bag of words"
   ]
  },
  {
   "cell_type": "markdown",
   "metadata": {},
   "source": [
    "## Cleanup of the dataset"
   ]
  },
  {
   "cell_type": "code",
   "execution_count": 79,
   "metadata": {},
   "outputs": [],
   "source": [
    "def clean_doc(item):\n",
    "    item = re.sub(\"\\W|[0-9]\", \" \", item) # remove non alpha\n",
    "    item = re.sub(\"\\s+\", \" \", item) # remove more than one space\n",
    "    item =  item.lower() # lowercase \n",
    "    return str(item)"
   ]
  },
  {
   "cell_type": "code",
   "execution_count": 80,
   "metadata": {},
   "outputs": [],
   "source": [
    "stop_words = set(stopwords.words('english'))"
   ]
  },
  {
   "cell_type": "markdown",
   "metadata": {},
   "source": [
    "## Tokenize"
   ]
  },
  {
   "cell_type": "code",
   "execution_count": 82,
   "metadata": {},
   "outputs": [],
   "source": [
    "tokenized_docs = []\n",
    "\n",
    "for doc in documents:\n",
    "    # tokenize removing len less than 3 and over 15 char\n",
    "    doc = clean_doc(str(doc))\n",
    "    doc = gensim.utils.simple_preprocess(doc, min_len=4, max_len=15)\n",
    "    removed_stops = []\n",
    "    for word in doc:\n",
    "        if (word not in stop_words):\n",
    "            removed_stops.append(word)\n",
    "    tokenized_docs.append(removed_stops)"
   ]
  },
  {
   "cell_type": "markdown",
   "metadata": {},
   "source": [
    "## Rejoin bag of words with stop words and short words removed"
   ]
  },
  {
   "cell_type": "code",
   "execution_count": 83,
   "metadata": {},
   "outputs": [],
   "source": [
    "joined_docs = []\n",
    "for doc in tokenized_docs:\n",
    "    joined_docs.append(\" \".join(doc))"
   ]
  },
  {
   "cell_type": "markdown",
   "metadata": {},
   "source": [
    "# Convert list documents into TFIDF"
   ]
  },
  {
   "cell_type": "markdown",
   "metadata": {},
   "source": [
    "Create TFIDF Term Frequency Inverse Document Frequenct\n",
    "* Summarizes how often a word appears in a document\n",
    "* Downscales words that appear often across docs"
   ]
  },
  {
   "cell_type": "code",
   "execution_count": 84,
   "metadata": {},
   "outputs": [
    {
     "name": "stdout",
     "output_type": "stream",
     "text": [
      "             word   TF-IDF\n",
      "0    prophylactic  0.35303\n",
      "1  reconstructive  0.35303\n",
      "2        stenosis  0.35303\n",
      "3         options  0.35303\n",
      "4   comprehensive  0.33033\n"
     ]
    }
   ],
   "source": [
    "tfIdfVectorizer=TfidfVectorizer(use_idf=True)\n",
    "tfIdf = tfIdfVectorizer.fit_transform(joined_docs)\n",
    "df = pd.DataFrame(tfIdf[0].T.todense(), index=tfIdfVectorizer.get_feature_names(), columns=[\"TF-IDF\"])\n",
    "df = df.sort_values('TF-IDF', ascending=False)\n",
    "df = df.reset_index() # convert index into column\n",
    "df = df.rename(columns = {'index':'word'})\n",
    "print(df.head())"
   ]
  },
  {
   "cell_type": "markdown",
   "metadata": {},
   "source": [
    "## Convert to dict in order to build table"
   ]
  },
  {
   "cell_type": "code",
   "execution_count": 85,
   "metadata": {},
   "outputs": [],
   "source": [
    "my_dict = {}\n",
    "i = 0\n",
    "for row in df['word'] :\n",
    "    my_dict[f'{df[\"word\"][i]}'] = df['TF-IDF'][i]\n",
    "    i+=1"
   ]
  },
  {
   "cell_type": "markdown",
   "metadata": {},
   "source": [
    "## Set up a new dataframe with all words as headers"
   ]
  },
  {
   "cell_type": "code",
   "execution_count": 103,
   "metadata": {},
   "outputs": [],
   "source": [
    "headers = df.word\n",
    "word_matrix = pd.DataFrame(columns=headers)"
   ]
  },
  {
   "cell_type": "code",
   "execution_count": 130,
   "metadata": {},
   "outputs": [
    {
     "name": "stdout",
     "output_type": "stream",
     "text": [
      "word  prophylactic  reconstructive  stenosis  options  comprehensive  \\\n",
      "0          0.35303         0.35303   0.35303  0.35303        0.33033   \n",
      "1          0.00000         0.00000   0.00000  0.00000        0.00000   \n",
      "2          0.00000         0.00000   0.00000  0.00000        0.00000   \n",
      "3          0.00000         0.00000   0.00000  0.00000        0.00000   \n",
      "4          0.00000         0.00000   0.00000  0.00000        0.00000   \n",
      "..             ...             ...       ...      ...            ...   \n",
      "397        0.00000         0.00000   0.00000  0.00000        0.00000   \n",
      "398        0.00000         0.00000   0.00000  0.00000        0.00000   \n",
      "399        0.00000         0.00000   0.00000  0.00000        0.00000   \n",
      "400        0.00000         0.00000   0.00000  0.00000        0.00000   \n",
      "401        0.00000         0.00000   0.00000  0.00000        0.00000   \n",
      "\n",
      "word  endoscopic  diagnosis  approach  management  treatment  ...  formalism  \\\n",
      "0       0.301732   0.301732  0.282894    0.275419   0.233219  ...        0.0   \n",
      "1       0.000000   0.000000  0.000000    0.000000   0.000000  ...        0.0   \n",
      "2       0.000000   0.000000  0.000000    0.000000   0.000000  ...        0.0   \n",
      "3       0.000000   0.000000  0.282894    0.000000   0.000000  ...        0.0   \n",
      "4       0.000000   0.000000  0.000000    0.000000   0.000000  ...        0.0   \n",
      "..           ...        ...       ...         ...        ...  ...        ...   \n",
      "397     0.000000   0.000000  0.000000    0.000000   0.000000  ...        0.0   \n",
      "398     0.000000   0.000000  0.000000    0.000000   0.000000  ...        0.0   \n",
      "399     0.000000   0.000000  0.000000    0.000000   0.000000  ...        0.0   \n",
      "400     0.000000   0.000000  0.000000    0.000000   0.000000  ...        0.0   \n",
      "401     0.000000   0.000000  0.000000    0.000000   0.000000  ...        0.0   \n",
      "\n",
      "word  forgotten  forces  foods  food  fontan  following  followed  follow  \\\n",
      "0           0.0     0.0    0.0   0.0     0.0        0.0       0.0     0.0   \n",
      "1           0.0     0.0    0.0   0.0     0.0        0.0       0.0     0.0   \n",
      "2           0.0     0.0    0.0   0.0     0.0        0.0       0.0     0.0   \n",
      "3           0.0     0.0    0.0   0.0     0.0        0.0       0.0     0.0   \n",
      "4           0.0     0.0    0.0   0.0     0.0        0.0       0.0     0.0   \n",
      "..          ...     ...    ...   ...     ...        ...       ...     ...   \n",
      "397         0.0     0.0    0.0   0.0     0.0        0.0       0.0     0.0   \n",
      "398         0.0     0.0    0.0   0.0     0.0        0.0       0.0     0.0   \n",
      "399         0.0     0.0    0.0   0.0     0.0        0.0       0.0     0.0   \n",
      "400         0.0     0.0    0.0   0.0     0.0        0.0       0.0     0.0   \n",
      "401         0.0     0.0    0.0   0.0     0.0        0.0       0.0     0.0   \n",
      "\n",
      "word  zealand  \n",
      "0         0.0  \n",
      "1         0.0  \n",
      "2         0.0  \n",
      "3         0.0  \n",
      "4         0.0  \n",
      "..        ...  \n",
      "397       0.0  \n",
      "398       0.0  \n",
      "399       0.0  \n",
      "400       0.0  \n",
      "401       0.0  \n",
      "\n",
      "[400 rows x 1878 columns]\n"
     ]
    }
   ],
   "source": [
    "print(word_matrix)"
   ]
  },
  {
   "cell_type": "markdown",
   "metadata": {},
   "source": [
    "## Get the TF-IDF metric into the matrix for each document"
   ]
  },
  {
   "cell_type": "code",
   "execution_count": 104,
   "metadata": {},
   "outputs": [],
   "source": [
    "i = 0\n",
    "for doc in tokenized_docs:\n",
    "    # print(doc)\n",
    "    for word in doc:\n",
    "        column = word\n",
    "        value = my_dict.get(word)\n",
    "        # print(i,column,value)\n",
    "        word_matrix.at[i, column] = value\n",
    "        #word_matrix.at[i, 'data_tag'] = 'Cancer'\n",
    "    i+=1\n",
    "# remove all NaN\n",
    "word_matrix = word_matrix.fillna(0)"
   ]
  },
  {
   "cell_type": "markdown",
   "metadata": {},
   "source": [
    "## We now have word frequencies by doc and are ready for dimensionality reduction"
   ]
  },
  {
   "cell_type": "code",
   "execution_count": 105,
   "metadata": {},
   "outputs": [
    {
     "name": "stdout",
     "output_type": "stream",
     "text": [
      "word  prophylactic  reconstructive  stenosis  options  comprehensive  \\\n",
      "0          0.35303         0.35303   0.35303  0.35303        0.33033   \n",
      "1          0.00000         0.00000   0.00000  0.00000        0.00000   \n",
      "2          0.00000         0.00000   0.00000  0.00000        0.00000   \n",
      "3          0.00000         0.00000   0.00000  0.00000        0.00000   \n",
      "4          0.00000         0.00000   0.00000  0.00000        0.00000   \n",
      "..             ...             ...       ...      ...            ...   \n",
      "397        0.00000         0.00000   0.00000  0.00000        0.00000   \n",
      "398        0.00000         0.00000   0.00000  0.00000        0.00000   \n",
      "399        0.00000         0.00000   0.00000  0.00000        0.00000   \n",
      "400        0.00000         0.00000   0.00000  0.00000        0.00000   \n",
      "401        0.00000         0.00000   0.00000  0.00000        0.00000   \n",
      "\n",
      "word  endoscopic  diagnosis  approach  management  treatment  ...  formalism  \\\n",
      "0       0.301732   0.301732  0.282894    0.275419   0.233219  ...        0.0   \n",
      "1       0.000000   0.000000  0.000000    0.000000   0.000000  ...        0.0   \n",
      "2       0.000000   0.000000  0.000000    0.000000   0.000000  ...        0.0   \n",
      "3       0.000000   0.000000  0.282894    0.000000   0.000000  ...        0.0   \n",
      "4       0.000000   0.000000  0.000000    0.000000   0.000000  ...        0.0   \n",
      "..           ...        ...       ...         ...        ...  ...        ...   \n",
      "397     0.000000   0.000000  0.000000    0.000000   0.000000  ...        0.0   \n",
      "398     0.000000   0.000000  0.000000    0.000000   0.000000  ...        0.0   \n",
      "399     0.000000   0.000000  0.000000    0.000000   0.000000  ...        0.0   \n",
      "400     0.000000   0.000000  0.000000    0.000000   0.000000  ...        0.0   \n",
      "401     0.000000   0.000000  0.000000    0.000000   0.000000  ...        0.0   \n",
      "\n",
      "word  forgotten  forces  foods  food  fontan  following  followed  follow  \\\n",
      "0           0.0     0.0    0.0   0.0     0.0        0.0       0.0     0.0   \n",
      "1           0.0     0.0    0.0   0.0     0.0        0.0       0.0     0.0   \n",
      "2           0.0     0.0    0.0   0.0     0.0        0.0       0.0     0.0   \n",
      "3           0.0     0.0    0.0   0.0     0.0        0.0       0.0     0.0   \n",
      "4           0.0     0.0    0.0   0.0     0.0        0.0       0.0     0.0   \n",
      "..          ...     ...    ...   ...     ...        ...       ...     ...   \n",
      "397         0.0     0.0    0.0   0.0     0.0        0.0       0.0     0.0   \n",
      "398         0.0     0.0    0.0   0.0     0.0        0.0       0.0     0.0   \n",
      "399         0.0     0.0    0.0   0.0     0.0        0.0       0.0     0.0   \n",
      "400         0.0     0.0    0.0   0.0     0.0        0.0       0.0     0.0   \n",
      "401         0.0     0.0    0.0   0.0     0.0        0.0       0.0     0.0   \n",
      "\n",
      "word  zealand  \n",
      "0         0.0  \n",
      "1         0.0  \n",
      "2         0.0  \n",
      "3         0.0  \n",
      "4         0.0  \n",
      "..        ...  \n",
      "397       0.0  \n",
      "398       0.0  \n",
      "399       0.0  \n",
      "400       0.0  \n",
      "401       0.0  \n",
      "\n",
      "[400 rows x 1878 columns]\n",
      "1    0.0\n",
      "Name: cancer, dtype: float64\n",
      "None\n"
     ]
    }
   ],
   "source": [
    "print(word_matrix)\n",
    "print(print(word_matrix.loc[[1]]['cancer']))"
   ]
  },
  {
   "cell_type": "markdown",
   "metadata": {},
   "source": [
    "# PCA dimensionality reduction"
   ]
  },
  {
   "cell_type": "markdown",
   "metadata": {},
   "source": [
    "## Break out values for scatter plot"
   ]
  },
  {
   "cell_type": "code",
   "execution_count": 129,
   "metadata": {},
   "outputs": [
    {
     "name": "stderr",
     "output_type": "stream",
     "text": [
      "/Users/luther/opt/anaconda3/lib/python3.8/site-packages/yellowbrick/features/pca.py:448: UserWarning: Tight layout not applied. The left and right margins cannot be made large enough to accommodate all axes decorations. \n",
      "  self.fig.tight_layout()\n"
     ]
    },
    {
     "data": {
      "image/png": "[encoded data removed]",
      "text/plain": [
       "<Figure size 432x288 with 1 Axes>"
      ]
     },
     "metadata": {
      "needs_background": "light"
     },
     "output_type": "display_data"
    },
    {
     "data": {
      "text/plain": [
       "<Axes3DSubplot:title={'center':'Principal Component Plot'}, xlabel='$PC_1$', ylabel='$PC_2$'>"
      ]
     },
     "execution_count": 129,
     "metadata": {},
     "output_type": "execute_result"
    }
   ],
   "source": [
    "from yellowbrick.features import PCA\n",
    "from yellowbrick.features import pca_decomposition\n",
    "\n",
    "visualizer = PCA(scale=True, classes=classes, projection = 3)\n",
    "visualizer.fit_transform(word_matrix)\n",
    "visualizer.show()"
   ]
  },
  {
   "cell_type": "markdown",
   "metadata": {},
   "source": [
    "# tSNE dimensionality reduction"
   ]
  },
  {
   "cell_type": "code",
   "execution_count": 93,
   "metadata": {},
   "outputs": [],
   "source": [
    "from sklearn.feature_extraction.text import TfidfVectorizer\n",
    "\n",
    "from yellowbrick.text import TSNEVisualizer\n",
    "from yellowbrick.datasets import load_hobbies"
   ]
  },
  {
   "cell_type": "code",
   "execution_count": 94,
   "metadata": {},
   "outputs": [
    {
     "name": "stderr",
     "output_type": "stream",
     "text": [
      "*c* argument looks like a single numeric RGB or RGBA sequence, which should be avoided as value-mapping will have precedence in case its length matches with *x* & *y*.  Please use the *color* keyword-argument or provide a 2-D array with a single row if you intend to specify the same RGB or RGBA value for all points.\n"
     ]
    },
    {
     "data": {
      "image/png": "[encoded data removed]",
      "text/plain": [
       "<Figure size 432x288 with 1 Axes>"
      ]
     },
     "metadata": {},
     "output_type": "display_data"
    },
    {
     "data": {
      "text/plain": [
       "<AxesSubplot:title={'center':'TSNE Projection of 402 Documents'}>"
      ]
     },
     "execution_count": 94,
     "metadata": {},
     "output_type": "execute_result"
    }
   ],
   "source": [
    "# Load the data and create document vectors\n",
    "corpus = word_matrix\n",
    "tfidf = TfidfVectorizer()\n",
    "\n",
    "X = tfIdf\n",
    "y = corpus.target\n",
    "\n",
    "# Create the visualizer and draw the vectors\n",
    "tsne = TSNEVisualizer()\n",
    "tsne.fit(X, y)\n",
    "tsne.show()"
   ]
  },
  {
   "cell_type": "markdown",
   "metadata": {},
   "source": [
    "# UMAP dimensionality reduction"
   ]
  },
  {
   "cell_type": "code",
   "execution_count": 95,
   "metadata": {},
   "outputs": [
    {
     "name": "stderr",
     "output_type": "stream",
     "text": [
      "*c* argument looks like a single numeric RGB or RGBA sequence, which should be avoided as value-mapping will have precedence in case its length matches with *x* & *y*.  Please use the *color* keyword-argument or provide a 2-D array with a single row if you intend to specify the same RGB or RGBA value for all points.\n"
     ]
    },
    {
     "data": {
      "image/png": "[encoded data removed]",
      "text/plain": [
       "<Figure size 432x288 with 1 Axes>"
      ]
     },
     "metadata": {},
     "output_type": "display_data"
    },
    {
     "data": {
      "text/plain": [
       "<AxesSubplot:title={'center':'UMAP Projection of 402 Documents'}>"
      ]
     },
     "execution_count": 95,
     "metadata": {},
     "output_type": "execute_result"
    }
   ],
   "source": [
    "from sklearn.feature_extraction.text import TfidfVectorizer\n",
    "from yellowbrick.datasets import load_hobbies\n",
    "from yellowbrick.text import UMAPVisualizer\n",
    "\n",
    "# Load the text data\n",
    "corpus = word_matrix\n",
    "tfidf = TfidfVectorizer()\n",
    "docs = tfIdf\n",
    "labels = corpus.target\n",
    "\n",
    "# Instantiate the text visualizer\n",
    "umap = UMAPVisualizer()\n",
    "umap.fit(docs, labels)\n",
    "umap.show()"
   ]
  },
  {
   "cell_type": "markdown",
   "metadata": {},
   "source": [
    "### Conclusions\n",
    "#### PCA\n",
    "This one, of the three, was the hardest to interpret. The clustering is too sparse to understand what is really going on in the plot. \n",
    "#### TSNE\n",
    "I think this did the best job clustering results. There were a number of very clear clusters and if I were in the field this is likely what I would use for this dataset. \n",
    "#### UMAP\n",
    "Clusers in this graph were clear but the overall dataset was much more diffuse. I think that this would still be useful, but in this case preferred TSNE"
   ]
  }
 ],
 "metadata": {
  "kernelspec": {
   "display_name": "Python 3",
   "language": "python",
   "name": "python3"
  },
  "language_info": {
   "codemirror_mode": {
    "name": "ipython",
    "version": 3
   },
   "file_extension": ".py",
   "mimetype": "text/x-python",
   "name": "python",
   "nbconvert_exporter": "python",
   "pygments_lexer": "ipython3",
   "version": "3.8.5"
  }
 },
 "nbformat": 4,
 "nbformat_minor": 4
}
