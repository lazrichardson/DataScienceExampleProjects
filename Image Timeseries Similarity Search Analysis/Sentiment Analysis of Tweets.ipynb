{
 "cells": [
  {
   "cell_type": "markdown",
   "metadata": {},
   "source": [
    "# Sentiment Analysis of Tweets\n",
    "This project collects tweets about soccer to analyze their sentiment, comparing results of Afinn and FastText.\n",
    "Overview:\n",
    "* Search, clean, and load the tweets\n",
    "* Calculate sentimes using Afinn\n",
    "* Train a FastText model \n",
    "* Find sentiments using FastText model"
   ]
  },
  {
   "cell_type": "code",
   "execution_count": 328,
   "metadata": {},
   "outputs": [],
   "source": [
    "import requests\n",
    "import csv\n",
    "import json\n",
    "import os"
   ]
  },
  {
   "cell_type": "markdown",
   "metadata": {},
   "source": [
    "# Get tweets from Twitter API"
   ]
  },
  {
   "cell_type": "code",
   "execution_count": 351,
   "metadata": {},
   "outputs": [],
   "source": [
    "def create_url(query):\n",
    "    #query = \"westhamunited -is:tweet\"\n",
    "    # Tweet fields are adjustable.\n",
    "    # Options include:\n",
    "    # attachments, author_id, context_annotations,\n",
    "    # conversation_id, created_at, entities, geo, id,\n",
    "    # in_reply_to_user_id, lang, non_public_metrics, organic_metrics,\n",
    "    # possibly_sensitive, promoted_metrics, public_metrics, referenced_tweets,\n",
    "    # source, text, and withheld\n",
    "    tweet_fields = \"tweet.fields=author_id\"\n",
    "    url = \"https://api.twitter.com/2/tweets/search/recent?query={}&{}\".format(\n",
    "        query, tweet_fields\n",
    "    )\n",
    "    return url\n",
    "\n",
    "\n",
    "def create_headers(bearer_token):\n",
    "    headers = {\"Authorization\": \"Bearer {}\".format(bearer_token)}\n",
    "    return headers\n",
    "\n",
    "\n",
    "def connect_to_endpoint(url, headers):\n",
    "    response = requests.request(\"GET\", url, headers=headers)\n",
    "    print(response.status_code)\n",
    "    if response.status_code != 200:\n",
    "        raise Exception(response.status_code, response.text)\n",
    "    return response.json()"
   ]
  },
  {
   "cell_type": "code",
   "execution_count": 1,
   "metadata": {},
   "outputs": [],
   "source": [
    "# Twitter information\n",
    "api_key = ''\n",
    "secret_key =  ''\n",
    "bearer_token =  ''"
   ]
  },
  {
   "cell_type": "code",
   "execution_count": 369,
   "metadata": {},
   "outputs": [],
   "source": [
    "def clean_tweet(item):\n",
    "    item = re.sub(\"\\#[^\\s]+\",\" \",item) # remove @mention and #hashtag\n",
    "    item = re.sub(\"\\@[^\\s]+\",\" \",item) # remove @mention \n",
    "    item = re.sub(\"(\\w+:\\/\\/\\S+)\", \" \", item)# remove urls\n",
    "    item = re.sub(\"\\W\", \" \", item) # remove non alphanumeric\n",
    "    item = re.sub(\"\\s+\", \" \", item) # remove more than one space\n",
    "    item =  item.lower() # lowercase \n",
    "    return item"
   ]
  },
  {
   "cell_type": "code",
   "execution_count": 414,
   "metadata": {},
   "outputs": [
    {
     "name": "stdout",
     "output_type": "stream",
     "text": [
      "200\n",
      "{\n",
      "    \"data\": [\n",
      "        {\n",
      "            \"author_id\": \"1168742702890008576\",\n",
      "            \"id\": \"1373421929915412483\",\n",
      "            \"text\": \"@psad2 @russell_liburd @Jayb1970NUFC @gone_bruce @gordon_woodburn @TOONYWOONY11 @whitleysfinest @LennyWalker1 @a6tox @PottskyRob @JBDT @Ethcommon @kunoglessi I hope you are not including Sheffield United and West Bromwich Albion in your equation of us being the worst team in the league.\"\n",
      "        },\n",
      "        {\n",
      "            \"author_id\": \"1065097051623645185\",\n",
      "            \"id\": \"1373420977841971204\",\n",
      "            \"text\": \"@calcutler @Saudi49er Yes i support the owner and i support Sheffield United. but one question did you hear Chris wilder say that he was sacked ?how would you feel when you realize that he left the club himself!? Sheffield United is not just manger or players .Sheffield united is a History \\u2694\\ufe0f\\u2694\\ufe0f\\u2764\\ufe0f\"\n",
      "        },\n",
      "        {\n",
      "            \"author_id\": \"1015198246204035072\",\n",
      "            \"id\": \"1373395874420756488\",\n",
      "            \"text\": \"Brentford, Sheffield United and Brighton tonight are the worst collective 270 mins I've watched as a #nufc fan and 2 wins in 20, football not even of a championship standard, he has to go #BruceOut\"\n",
      "        },\n",
      "        {\n",
      "            \"author_id\": \"313497663\",\n",
      "            \"id\": \"1373395032716275712\",\n",
      "            \"text\": \"@phil_trotter @NUFC Without a doubt any other club would have sacked him after the Sheffield United if not Brentford match. Plenty of time left then as well as matches and I refuse to believe with the right manager that these players are not good enough - should be safe as houses\"\n",
      "        },\n",
      "        {\n",
      "            \"author_id\": \"257984833\",\n",
      "            \"id\": \"1373392780412776450\",\n",
      "            \"text\": \"@Ollyhx1 They are likely to survive because Fulham are not taking their chance, Albion and Sheffield United are already down IMO.\"\n",
      "        },\n",
      "        {\n",
      "            \"author_id\": \"58317646\",\n",
      "            \"id\": \"1373389939811966985\",\n",
      "            \"text\": \"@darren_manning @NUFC Even if he does I fear it could be too late.... again.\\nShould\\u2019ve be gone after the Sheffield United game.. can not see us picking up too many points between now and the end of the season\"\n",
      "        },\n",
      "        {\n",
      "            \"author_id\": \"1001991221332541441\",\n",
      "            \"id\": \"1373377175286599688\",\n",
      "            \"text\": \"Must-win game against Brighton this and we haven't had a shot. Not. One. Shot. Wtf is going on, it's like the Sheffield United game again, why on earth are we sitting off and not playing a part in the game? We deserve to go down and we will #nufc\"\n",
      "        },\n",
      "        {\n",
      "            \"author_id\": \"174581031\",\n",
      "            \"id\": \"1373376862580269056\",\n",
      "            \"text\": \"This is the same as the Sheffield United game. Come up against a team low on form who can\\u2019t score a goal, and we let them dictate the play from the first minute. Fucking inevitable. \\n\\nSimply not good enough man. Not fucking good enough. \\n\\n#NUFC\"\n",
      "        },\n",
      "        {\n",
      "            \"author_id\": \"133122347\",\n",
      "            \"id\": \"1373356040570478596\",\n",
      "            \"text\": \"@TheJohnOlawale That\\u2019s not why your team is  15points behind sha.. you dropped points to Sheffield United, West Brom and co.. your team being shite has nothing to do with City\\u2019s quality\"\n",
      "        },\n",
      "        {\n",
      "            \"author_id\": \"342656793\",\n",
      "            \"id\": \"1373345706619047944\",\n",
      "            \"text\": \"@johnmc1984 @Dan1879_SAFC We take another 6 points out of that run we would be 8 points clear and 14th. Took 1 point off Sheffield United and West Brom where we played for draws.\\n\\nSpin it any way possible simply not good enough from tactics - you had him as manager so you should know\"\n",
      "        }\n",
      "    ],\n",
      "    \"meta\": {\n",
      "        \"newest_id\": \"1373421929915412483\",\n",
      "        \"next_token\": \"b26v89c19zqg8o3fosqs9wpqji5059jww21it59p5v88t\",\n",
      "        \"oldest_id\": \"1373345706619047944\",\n",
      "        \"result_count\": 10\n",
      "    }\n",
      "}\n",
      "200\n",
      "{\n",
      "    \"data\": [\n",
      "        {\n",
      "            \"author_id\": \"1364391093228298240\",\n",
      "            \"id\": \"1373469762743771136\",\n",
      "            \"text\": \"@Prince05052435 @TotalElBicho But still not to state the obvious and i know that this is irrelevant but Premier league has better players than la liga\"\n",
      "        },\n",
      "        {\n",
      "            \"author_id\": \"1333837856591245315\",\n",
      "            \"id\": \"1373458017014923267\",\n",
      "            \"text\": \"@lowes_mick 2 up within 5 minutes. 1 shot on target the whole game 35 percent of possession we are truly awful and make them look like a chasing Europe not a relegation rival. 25 games where we have conceded 1st in the premier league and we haven't won managed 6 draws we lack character.\"\n",
      "        },\n",
      "        {\n",
      "            \"author_id\": \"1054414796592865282\",\n",
      "            \"id\": \"1373456095679713285\",\n",
      "            \"text\": \"@united41681071 @KRFutbol @gstringutd @CompsMU @jgarnerr96 Not every player develop at early age.\\nThere is reason why only a few 16 yea olds has played in premier league (Rooney)\\nIf u expect every promising player to be as good as Rooney at 16 and play in pl u are just deluded.\"\n",
      "        },\n",
      "        {\n",
      "            \"author_id\": \"930092083087491072\",\n",
      "            \"id\": \"1373451544205594624\",\n",
      "            \"text\": \"Tkachuk constantly punching Muzzin (who suffered a facial fracture) in the face is not tough hockey.  It reeks of no integrity, no respect and total bush league. So much talent and could be a premier power forward but he is a \\ud83e\\udd21\"\n",
      "        },\n",
      "        {\n",
      "            \"author_id\": \"1184835701675823104\",\n",
      "            \"id\": \"1373448145867276288\",\n",
      "            \"text\": \"@toon_teddy_bear Yes you're right but a takeover by December would have helped. Unfortunately the \\\"fit and proper\\\" isn't applied equally \\ud83d\\ude15 The Premier League and Championship is littered with owners past and present not suitable yet you were penalised due to politics \\ud83d\\ude15\"\n",
      "        },\n",
      "        {\n",
      "            \"author_id\": \"1187053577870741504\",\n",
      "            \"id\": \"1373446738716065795\",\n",
      "            \"text\": \"@Mismaisu89 @joseph_afc @iknowbal @afcjxmes @CFCDUBois A club like arsenal bragging about an fa cup is pathetic tbh. It should count as a real major trophy for teams in the championship and low premier league sides not the third biggest club in England\"\n",
      "        },\n",
      "        {\n",
      "            \"author_id\": \"1371404497994575872\",\n",
      "            \"id\": \"1373445394080882688\",\n",
      "            \"text\": \"@sirpinno @kadexmatt @UtdXclusive Funny how everyone says \\u201cnot a premier league proved\\u201d but then comes a player from the 2nd french league and becomes one of the bests. Or a random one from the Bundesliga\"\n",
      "        },\n",
      "        {\n",
      "            \"author_id\": \"1195428051271766019\",\n",
      "            \"id\": \"1373444186805010433\",\n",
      "            \"text\": \"@not_aguero @Mahrez22 @Laporte @DeBruyneKev @MoSalah is Best scorer of premier league , 4th best scorer in 5topl leagues+champions league between 2017-2021,engineer of two consecutive champions league finals with successful title ... and of course Brother of @Mahrez22 \\ud83c\\udde9\\ud83c\\uddff\\u2764\\ud83c\\uddea\\ud83c\\uddec\\ud83d\\ude0b\\ud83d\\ude1c\"\n",
      "        },\n",
      "        {\n",
      "            \"author_id\": \"1613141054\",\n",
      "            \"id\": \"1373440515576840193\",\n",
      "            \"text\": \"@MsiDouglas Bruce\\u2019s track record spoke volumes we was all told to give him time and to get behind him. He has now proven what the fans have known all along. He is not capable to manage in the premier league he is well out of his depth.\"\n",
      "        },\n",
      "        {\n",
      "            \"author_id\": \"1315354232686612481\",\n",
      "            \"id\": \"1373434072966516738\",\n",
      "            \"text\": \"@clarkemi @mnesbitt70 @ToonMouthTyne It\\u2019s not just one goal though. In the last 4 games (inc. tonight) he\\u2019s been the only person to score in 2 of those. Everyone on that pitch looked out of their depth and have done all season. The players can play in the premier league. Just not under Bruce\"\n",
      "        }\n",
      "    ],\n",
      "    \"meta\": {\n",
      "        \"newest_id\": \"1373469762743771136\",\n",
      "        \"next_token\": \"b26v89c19zqg8o3fosqs9yu5uum4qklz6b20a0061m4cd\",\n",
      "        \"oldest_id\": \"1373434072966516738\",\n",
      "        \"result_count\": 10\n",
      "    }\n",
      "}\n"
     ]
    }
   ],
   "source": [
    "tweets = []\n",
    "search_terms = ['Sheffield United', 'premier league']\n",
    "\n",
    "for search in search_terms:\n",
    "    query = f\"{search} lang: en and not -has:links -is:retweet\"\n",
    "    url = create_url(query)\n",
    "    headers = create_headers(bearer_token)\n",
    "    json_response = connect_to_endpoint(url, headers)\n",
    "    print(json.dumps(json_response, indent=4, sort_keys=True))\n",
    "\n",
    "    for item in json_response['data']:\n",
    "        tweet = clean_tweet(item['text'])\n",
    "        tweets.append(tweet)"
   ]
  },
  {
   "cell_type": "code",
   "execution_count": 415,
   "metadata": {},
   "outputs": [
    {
     "name": "stdout",
     "output_type": "stream",
     "text": [
      " i hope you are not including sheffield united and west bromwich albion in your equation of us being the worst team in the league \n",
      " yes i support the owner and i support sheffield united but one question did you hear chris wilder say that he was sacked how would you feel when you realize that he left the club himself sheffield united is not just manger or players sheffield united is a history \n",
      "brentford sheffield united and brighton tonight are the worst collective 270 mins i ve watched as a fan and 2 wins in 20 football not even of a championship standard he has to go \n",
      " without a doubt any other club would have sacked him after the sheffield united if not brentford match plenty of time left then as well as matches and i refuse to believe with the right manager that these players are not good enough should be safe as houses\n",
      " they are likely to survive because fulham are not taking their chance albion and sheffield united are already down imo \n",
      " even if he does i fear it could be too late again should ve be gone after the sheffield united game can not see us picking up too many points between now and the end of the season\n",
      "must win game against brighton this and we haven t had a shot not one shot wtf is going on it s like the sheffield united game again why on earth are we sitting off and not playing a part in the game we deserve to go down and we will \n",
      "this is the same as the sheffield united game come up against a team low on form who can t score a goal and we let them dictate the play from the first minute fucking inevitable simply not good enough man not fucking good enough \n",
      " that s not why your team is 15points behind sha you dropped points to sheffield united west brom and co your team being shite has nothing to do with city s quality\n",
      " we take another 6 points out of that run we would be 8 points clear and 14th took 1 point off sheffield united and west brom where we played for draws spin it any way possible simply not good enough from tactics you had him as manager so you should know\n",
      " but still not to state the obvious and i know that this is irrelevant but premier league has better players than la liga\n",
      " 2 up within 5 minutes 1 shot on target the whole game 35 percent of possession we are truly awful and make them look like a chasing europe not a relegation rival 25 games where we have conceded 1st in the premier league and we haven t won managed 6 draws we lack character \n",
      " not every player develop at early age there is reason why only a few 16 yea olds has played in premier league rooney if u expect every promising player to be as good as rooney at 16 and play in pl u are just deluded \n",
      "tkachuk constantly punching muzzin who suffered a facial fracture in the face is not tough hockey it reeks of no integrity no respect and total bush league so much talent and could be a premier power forward but he is a \n",
      " yes you re right but a takeover by december would have helped unfortunately the fit and proper isn t applied equally the premier league and championship is littered with owners past and present not suitable yet you were penalised due to politics \n",
      " a club like arsenal bragging about an fa cup is pathetic tbh it should count as a real major trophy for teams in the championship and low premier league sides not the third biggest club in england\n",
      " funny how everyone says not a premier league proved but then comes a player from the 2nd french league and becomes one of the bests or a random one from the bundesliga\n",
      " is best scorer of premier league 4th best scorer in 5topl leagues champions league between 2017 2021 engineer of two consecutive champions league finals with successful title and of course brother of \n",
      " bruce s track record spoke volumes we was all told to give him time and to get behind him he has now proven what the fans have known all along he is not capable to manage in the premier league he is well out of his depth \n",
      " it s not just one goal though in the last 4 games inc tonight he s been the only person to score in 2 of those everyone on that pitch looked out of their depth and have done all season the players can play in the premier league just not under bruce\n"
     ]
    }
   ],
   "source": [
    "tweets = list(dict.fromkeys(tweets))\n",
    "for tweet in tweets:\n",
    "    print(tweet)"
   ]
  },
  {
   "cell_type": "markdown",
   "metadata": {},
   "source": [
    "## Calculate the sentiment of each record (or token), from the data source you have chosen.\n",
    "Identify the theme for twenty of them, and report them in a excel sheet file. Your result excel file should include three columns:\n",
    "* Tweet text or news entry.\n",
    "* Sentiment scores from one of the baseline in the class, e.g. AfiNN, NRC, Bing (3 points)\n",
    "* and one state-of-the-art library which we did not explain in the class, e.g. FastText, BERT, Word2Vec and GloVe.(7 points)\n",
    "* Theme, which is a keyword you have extracted from them. This means you should perform theme analysis “manually” and not with algorithm. (5 points)"
   ]
  },
  {
   "cell_type": "markdown",
   "metadata": {},
   "source": [
    "## Sentiment Scores using Afinn"
   ]
  },
  {
   "cell_type": "code",
   "execution_count": 417,
   "metadata": {},
   "outputs": [
    {
     "name": "stdout",
     "output_type": "stream",
     "text": [
      "[0.0, 8.0, 5.0, -3.0, 3.0, -1.0, 3.0, -1.0, 2.0, 0.0, 2.0, 0.0, 3.0, 2.0, 4.0, 0.0, 4.0, 13.0, 1.0, 0.0]\n"
     ]
    }
   ],
   "source": [
    "from afinn import Afinn \n",
    "import pandas as pd \n",
    "  \n",
    "#instantiate afinn \n",
    "afn = Afinn() \n",
    "           \n",
    "# if score is > 0, then positive, neutral is 0, negative is < 0\n",
    "afinn_scores = [afn.score(tweet) for tweet in tweets] \n",
    "print(afinn_scores)"
   ]
  },
  {
   "cell_type": "markdown",
   "metadata": {},
   "source": [
    "## Sentiment Scores using FastText\n"
   ]
  },
  {
   "cell_type": "code",
   "execution_count": 107,
   "metadata": {},
   "outputs": [],
   "source": [
    "import fasttext"
   ]
  },
  {
   "cell_type": "markdown",
   "metadata": {},
   "source": [
    "### Import the data"
   ]
  },
  {
   "cell_type": "code",
   "execution_count": 229,
   "metadata": {},
   "outputs": [],
   "source": [
    "training_data = pd.read_csv('betsentiment-EN-tweets-sentiment-players.csv')\n",
    "del training_data['tweet_date_created']\n",
    "del training_data['tweet_id']\n",
    "del training_data['language']\n",
    "del training_data['sentiment_score']"
   ]
  },
  {
   "cell_type": "markdown",
   "metadata": {},
   "source": [
    "### Clean the data"
   ]
  },
  {
   "cell_type": "code",
   "execution_count": 230,
   "metadata": {},
   "outputs": [],
   "source": [
    "import re"
   ]
  },
  {
   "cell_type": "code",
   "execution_count": 231,
   "metadata": {},
   "outputs": [],
   "source": [
    "# cleanup the text of the tweets\n",
    "training_data['tweet_text'] = training_data['tweet_text'].apply(clean_tweet)\n",
    "\n",
    "# match format required for fasttext\n",
    "training_data[\"tweet_text\"] = \"__label__\" + training_data[\"sentiment\"] + \" \" + training_data[\"tweet_text\"]\n",
    "training_data.drop(training_data.loc[training_data['sentiment']=='MIXED'].index, inplace=True)"
   ]
  },
  {
   "cell_type": "code",
   "execution_count": 233,
   "metadata": {},
   "outputs": [
    {
     "name": "stdout",
     "output_type": "stream",
     "text": [
      "                                                tweet_text sentiment\n",
      "0        __label__NEUTRAL i vote for tap below to vote ...   NEUTRAL\n",
      "1        __label__NEUTRAL when is your first match didn...   NEUTRAL\n",
      "2        __label__NEUTRAL  you never know what you had ...   NEUTRAL\n",
      "3        __label__POSITIVE  you look good man i d appre...  POSITIVE\n",
      "4        __label__NEUTRAL  expect loads of excuses afte...   NEUTRAL\n",
      "...                                                    ...       ...\n",
      "1931331     __label__NEGATIVE  your mum is the pig asshole  NEGATIVE\n",
      "1931332  __label__NEUTRAL  just get simbas face on your...   NEUTRAL\n",
      "1931333  __label__NEUTRAL  thats why i said a fit bale ...   NEUTRAL\n",
      "1931334  __label__NEUTRAL i vote for tap below to vote ...   NEUTRAL\n",
      "1931335  __label__NEUTRAL  why alli that s a bizarre su...   NEUTRAL\n",
      "\n",
      "[1918690 rows x 2 columns]\n"
     ]
    }
   ],
   "source": [
    "print(training_data)"
   ]
  },
  {
   "cell_type": "markdown",
   "metadata": {},
   "source": [
    "### Resample for accuracy"
   ]
  },
  {
   "cell_type": "code",
   "execution_count": 235,
   "metadata": {},
   "outputs": [
    {
     "data": {
      "text/plain": [
       "NEUTRAL     1309490\n",
       "POSITIVE     499342\n",
       "NEGATIVE     109858\n",
       "Name: sentiment, dtype: int64"
      ]
     },
     "execution_count": 235,
     "metadata": {},
     "output_type": "execute_result"
    }
   ],
   "source": [
    "import seaborn as sns\n",
    "training_data['sentiment'].value_counts(normalize=False)"
   ]
  },
  {
   "cell_type": "code",
   "execution_count": 236,
   "metadata": {},
   "outputs": [
    {
     "name": "stdout",
     "output_type": "stream",
     "text": [
      "(500000, 2)\n"
     ]
    }
   ],
   "source": [
    "# downsample NEUTRAL \n",
    "neutral_data = training_data[training_data.sentiment.eq('NEUTRAL')]\n",
    "neutral_data = neutral_data.sample(500000)\n",
    "print(neutral_data.shape)"
   ]
  },
  {
   "cell_type": "code",
   "execution_count": 237,
   "metadata": {},
   "outputs": [
    {
     "name": "stdout",
     "output_type": "stream",
     "text": [
      "(500000, 2)\n"
     ]
    }
   ],
   "source": [
    "# upsample NEGATIVE\n",
    "negative_data = training_data[training_data.sentiment.eq('NEGATIVE')]\n",
    "negative_data = negative_data.sample(500000,replace=True)\n",
    "print(negative_data.shape)"
   ]
  },
  {
   "cell_type": "code",
   "execution_count": 238,
   "metadata": {},
   "outputs": [
    {
     "name": "stdout",
     "output_type": "stream",
     "text": [
      "(500000, 2)\n"
     ]
    }
   ],
   "source": [
    "# upsample POSITIVE\n",
    "positive_data = training_data[training_data.sentiment.eq('POSITIVE')]\n",
    "positive_data = positive_data.sample(500000,replace=True)\n",
    "print(positive_data.shape)"
   ]
  },
  {
   "cell_type": "code",
   "execution_count": 239,
   "metadata": {},
   "outputs": [
    {
     "name": "stdout",
     "output_type": "stream",
     "text": [
      "(1500000, 2)\n"
     ]
    }
   ],
   "source": [
    "# combine the samples...\n",
    "frames = [neutral_data, negative_data, positive_data] \n",
    "final_training_data = pd.concat(frames)\n",
    "print(final_training_data.shape)"
   ]
  },
  {
   "cell_type": "markdown",
   "metadata": {},
   "source": [
    "### Re-Check Sampling"
   ]
  },
  {
   "cell_type": "code",
   "execution_count": 240,
   "metadata": {},
   "outputs": [
    {
     "data": {
      "text/plain": [
       "NEGATIVE    500000\n",
       "POSITIVE    500000\n",
       "NEUTRAL     500000\n",
       "Name: sentiment, dtype: int64"
      ]
     },
     "execution_count": 240,
     "metadata": {},
     "output_type": "execute_result"
    }
   ],
   "source": [
    "final_training_data['sentiment'].value_counts(normalize=False)"
   ]
  },
  {
   "cell_type": "code",
   "execution_count": 241,
   "metadata": {},
   "outputs": [],
   "source": [
    "# export to csv for fasttext\n",
    "del final_training_data['sentiment'] # remove the sentiment column - no longer needed\n",
    "training_data.to_csv('training_data.csv', index = False)"
   ]
  },
  {
   "cell_type": "markdown",
   "metadata": {},
   "source": [
    "### Train the model"
   ]
  },
  {
   "cell_type": "code",
   "execution_count": 242,
   "metadata": {},
   "outputs": [],
   "source": [
    "model = fasttext.train_supervised(input=\"training_data.csv\")\n",
    "\n",
    "# Skipgram model :\n",
    "#model = fasttext.train_unsupervised('training_data.csv', model='skipgram')"
   ]
  },
  {
   "cell_type": "code",
   "execution_count": 243,
   "metadata": {},
   "outputs": [],
   "source": [
    "# save the model\n",
    "model.save_model(\"model_tweets.bin\")"
   ]
  },
  {
   "cell_type": "markdown",
   "metadata": {},
   "source": [
    "### Run some tests"
   ]
  },
  {
   "cell_type": "code",
   "execution_count": 391,
   "metadata": {},
   "outputs": [
    {
     "data": {
      "text/plain": [
       "(('__label__NEGATIVE',), array([0.893053]))"
      ]
     },
     "execution_count": 391,
     "metadata": {},
     "output_type": "execute_result"
    }
   ],
   "source": [
    "model.predict(\"you are the worst\")"
   ]
  },
  {
   "cell_type": "code",
   "execution_count": 392,
   "metadata": {},
   "outputs": [
    {
     "data": {
      "text/plain": [
       "(('__label__POSITIVE',), array([0.99710155]))"
      ]
     },
     "execution_count": 392,
     "metadata": {},
     "output_type": "execute_result"
    }
   ],
   "source": [
    "model.predict(\"I love you!\")"
   ]
  },
  {
   "cell_type": "code",
   "execution_count": 393,
   "metadata": {},
   "outputs": [
    {
     "data": {
      "text/plain": [
       "(('__label__NEUTRAL',), array([0.99997783]))"
      ]
     },
     "execution_count": 393,
     "metadata": {},
     "output_type": "execute_result"
    }
   ],
   "source": [
    "model.predict(\"You are just okay\")"
   ]
  },
  {
   "cell_type": "markdown",
   "metadata": {},
   "source": [
    "### Get sentiments for the news titles"
   ]
  },
  {
   "cell_type": "code",
   "execution_count": 421,
   "metadata": {},
   "outputs": [],
   "source": [
    "fasttext_scores = [model.predict(tweet) for tweet in tweets] "
   ]
  },
  {
   "cell_type": "markdown",
   "metadata": {},
   "source": [
    "## Export to CSV"
   ]
  },
  {
   "cell_type": "code",
   "execution_count": 422,
   "metadata": {},
   "outputs": [
    {
     "name": "stdout",
     "output_type": "stream",
     "text": [
      "                                                tweet  afinn_score  \\\n",
      "0    i hope you are not including sheffield united...          0.0   \n",
      "1    yes i support the owner and i support sheffie...          8.0   \n",
      "2   brentford sheffield united and brighton tonigh...          5.0   \n",
      "3    without a doubt any other club would have sac...         -3.0   \n",
      "4    they are likely to survive because fulham are...          3.0   \n",
      "5    even if he does i fear it could be too late a...         -1.0   \n",
      "6   must win game against brighton this and we hav...          3.0   \n",
      "7   this is the same as the sheffield united game ...         -1.0   \n",
      "8    that s not why your team is 15points behind s...          2.0   \n",
      "9    we take another 6 points out of that run we w...          0.0   \n",
      "10   but still not to state the obvious and i know...          2.0   \n",
      "11   2 up within 5 minutes 1 shot on target the wh...          0.0   \n",
      "12   not every player develop at early age there i...          3.0   \n",
      "13  tkachuk constantly punching muzzin who suffere...          2.0   \n",
      "14   yes you re right but a takeover by december w...          4.0   \n",
      "15   a club like arsenal bragging about an fa cup ...          0.0   \n",
      "16   funny how everyone says not a premier league ...          4.0   \n",
      "17   is best scorer of premier league 4th best sco...         13.0   \n",
      "18   bruce s track record spoke volumes we was all...          1.0   \n",
      "19   it s not just one goal though in the last 4 g...          0.0   \n",
      "\n",
      "                         fasttext_score  \n",
      "0     NEUTRAL | Confidence:[0.97976106]  \n",
      "1     NEUTRAL | Confidence:[0.98691702]  \n",
      "2      NEUTRAL | Confidence:[0.9181357]  \n",
      "3     NEUTRAL | Confidence:[0.56756085]  \n",
      "4      NEUTRAL | Confidence:[0.9887771]  \n",
      "5     NEUTRAL | Confidence:[0.74515802]  \n",
      "6     NEUTRAL | Confidence:[0.59970915]  \n",
      "7    NEGATIVE | Confidence:[0.58980101]  \n",
      "8     NEUTRAL | Confidence:[0.95549995]  \n",
      "9     NEUTRAL | Confidence:[0.92146236]  \n",
      "10    NEUTRAL | Confidence:[0.99888772]  \n",
      "11    NEUTRAL | Confidence:[0.56701279]  \n",
      "12    NEUTRAL | Confidence:[0.60578328]  \n",
      "13    NEUTRAL | Confidence:[0.68949497]  \n",
      "14    NEUTRAL | Confidence:[0.85027707]  \n",
      "15    NEGATIVE | Confidence:[0.6751917]  \n",
      "16    NEUTRAL | Confidence:[0.98236394]  \n",
      "17    NEUTRAL | Confidence:[0.99960738]  \n",
      "18    NEUTRAL | Confidence:[0.92097926]  \n",
      "19    NEUTRAL | Confidence:[0.82807285]  \n"
     ]
    }
   ],
   "source": [
    "def fasttext_cleanup(item):\n",
    "    sentiment_name = item[0] # get first element of the tuple which has the sentiment name\n",
    "    sentiment_name = str(sentiment_name) # cast to string\n",
    "    sentiment_name = sentiment_name.replace(\"__label__\", \"\") # remove the label prefix\n",
    "    sentiment_name = re.sub(\"\\W\",\" \",sentiment_name) # remove any extra characters\n",
    "    sentiment_confidence = str(item[1]) # get the sentiment confidence score\n",
    "    out = f\"{sentiment_name}| Confidence:{sentiment_confidence}\"\n",
    "    out = re.sub(\"\\s+\", \" \", out) # remove more than one space\n",
    "    return out\n",
    "    \n",
    "    \n",
    "# create datafram for results \n",
    "df = pd.DataFrame() \n",
    "df['tweet'] =  tweets \n",
    "df['afinn_score'] = afinn_scores\n",
    "df['fasttext_score'] = fasttext_scores\n",
    "df['fasttext_score'] = df['fasttext_score'].apply(fasttext_cleanup)\n",
    "\n",
    "print(df)"
   ]
  },
  {
   "cell_type": "code",
   "execution_count": 423,
   "metadata": {},
   "outputs": [],
   "source": [
    "# write results to CSV\n",
    "df.to_csv(\"sentiment_output.csv\")"
   ]
  }
 ],
 "metadata": {
  "kernelspec": {
   "display_name": "Python 3",
   "language": "python",
   "name": "python3"
  },
  "language_info": {
   "codemirror_mode": {
    "name": "ipython",
    "version": 3
   },
   "file_extension": ".py",
   "mimetype": "text/x-python",
   "name": "python",
   "nbconvert_exporter": "python",
   "pygments_lexer": "ipython3",
   "version": "3.8.5"
  }
 },
 "nbformat": 4,
 "nbformat_minor": 4
}
